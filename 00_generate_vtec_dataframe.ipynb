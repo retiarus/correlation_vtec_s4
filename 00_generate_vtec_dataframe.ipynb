{
 "cells": [
  {
   "cell_type": "markdown",
   "metadata": {},
   "source": [
    "# Gerando sére temporal para os dados de VTEC\n",
    "___\n",
    "\n",
    "Os dados de VTEC são disponibilizados no diretório data/tecmap_txt. O papel deste notebook é processar cada arquivo neste diretório, convertendo cada arquivo para uma matriz. A cada matriz será associado um instante. Combinando as várias matrizes, tem-se um série temporal."
   ]
  },
  {
   "cell_type": "code",
   "execution_count": 1,
   "metadata": {},
   "outputs": [],
   "source": [
    "import os\n",
    "import sys\n",
    "import numpy as np\n",
    "import pandas as pd\n",
    "import datetime\n",
    "\n",
    "from pathos.multiprocessing import ProcessPool\n",
    "\n",
    "import utils\n",
    "\n",
    "from utils import local_tecmap_txt"
   ]
  },
  {
   "cell_type": "code",
   "execution_count": 2,
   "metadata": {},
   "outputs": [],
   "source": [
    "files =  os.listdir(local_tecmap_txt)"
   ]
  },
  {
   "cell_type": "code",
   "execution_count": 3,
   "metadata": {},
   "outputs": [],
   "source": [
    "def file_to_array(file): \n",
    "    date = None\n",
    "    array = np.zeros((141,181))\n",
    "    with open(os.path.join(local_tecmap_txt, file), \"r\") as text:\n",
    "        date = text.readline().split()\n",
    "        header = text.readline()\n",
    "        data = []\n",
    "        for line in text.readlines():\n",
    "            elem_of_line = [float(m) for m in line.split()]\n",
    "            i = int((elem_of_line[0] - 260.0)*2.0)\n",
    "            j = int((elem_of_line[1] + 60.0)*2.0)\n",
    "            if (elem_of_line[2] == 999.000):\n",
    "                array[i][j] = np.nan\n",
    "            else:\n",
    "                array[i][j] = elem_of_line[2]\n",
    "    \n",
    "    year = int(date[1])\n",
    "    month = int(date[2])\n",
    "    day = int(date[3])\n",
    "    hour = int(date[4])\n",
    "    minute = int(date[5])\n",
    "    \n",
    "    index = datetime.datetime(year, month, day, hour, minute, \n",
    "                              tzinfo=datetime.timezone.utc)\n",
    "    return (index, array)"
   ]
  },
  {
   "cell_type": "code",
   "execution_count": 4,
   "metadata": {},
   "outputs": [
    {
     "name": "stdout",
     "output_type": "stream",
     "text": [
      "CPU times: user 1.5 s, sys: 2.63 s, total: 4.12 s\n",
      "Wall time: 2min 25s\n"
     ]
    }
   ],
   "source": [
    "%%time\n",
    "data = ProcessPool(nodes=4).map(file_to_array, files)"
   ]
  },
  {
   "cell_type": "code",
   "execution_count": 5,
   "metadata": {},
   "outputs": [],
   "source": [
    "labels = ['time-index', 'vtec']\n",
    "# use orient='index' to create dataframe using dictionary keys as rows\n",
    "data_series_tec = pd.DataFrame.from_records(data, columns=labels)"
   ]
  },
  {
   "cell_type": "code",
   "execution_count": 6,
   "metadata": {},
   "outputs": [],
   "source": [
    "data_series_tec['time-index'] = pd.to_datetime(data_series_tec['time-index'])\n",
    "data_series_tec.index = data_series_tec['time-index']\n",
    "del data_series_tec['time-index']"
   ]
  },
  {
   "cell_type": "code",
   "execution_count": 7,
   "metadata": {},
   "outputs": [
    {
     "name": "stdout",
     "output_type": "stream",
     "text": [
      "CPU times: user 889 µs, sys: 1.14 ms, total: 2.03 ms\n",
      "Wall time: 1.66 ms\n"
     ]
    }
   ],
   "source": [
    "%%time\n",
    "data_series_tec.sort_index(inplace=True)"
   ]
  },
  {
   "cell_type": "code",
   "execution_count": 8,
   "metadata": {},
   "outputs": [
    {
     "data": {
      "text/html": [
       "<div>\n",
       "<style scoped>\n",
       "    .dataframe tbody tr th:only-of-type {\n",
       "        vertical-align: middle;\n",
       "    }\n",
       "\n",
       "    .dataframe tbody tr th {\n",
       "        vertical-align: top;\n",
       "    }\n",
       "\n",
       "    .dataframe thead th {\n",
       "        text-align: right;\n",
       "    }\n",
       "</style>\n",
       "<table border=\"1\" class=\"dataframe\">\n",
       "  <thead>\n",
       "    <tr style=\"text-align: right;\">\n",
       "      <th></th>\n",
       "      <th>vtec</th>\n",
       "    </tr>\n",
       "    <tr>\n",
       "      <th>time-index</th>\n",
       "      <th></th>\n",
       "    </tr>\n",
       "  </thead>\n",
       "  <tbody>\n",
       "    <tr>\n",
       "      <th>2013-12-01 00:00:00+00:00</th>\n",
       "      <td>[[nan, nan, nan, nan, nan, nan, nan, nan, nan,...</td>\n",
       "    </tr>\n",
       "    <tr>\n",
       "      <th>2013-12-01 00:10:00+00:00</th>\n",
       "      <td>[[nan, nan, nan, nan, nan, nan, nan, nan, nan,...</td>\n",
       "    </tr>\n",
       "    <tr>\n",
       "      <th>2013-12-01 00:20:00+00:00</th>\n",
       "      <td>[[nan, nan, nan, nan, nan, nan, nan, nan, nan,...</td>\n",
       "    </tr>\n",
       "    <tr>\n",
       "      <th>2013-12-01 00:30:00+00:00</th>\n",
       "      <td>[[nan, nan, nan, nan, nan, nan, nan, nan, nan,...</td>\n",
       "    </tr>\n",
       "    <tr>\n",
       "      <th>2013-12-01 00:40:00+00:00</th>\n",
       "      <td>[[nan, nan, nan, nan, nan, nan, nan, nan, nan,...</td>\n",
       "    </tr>\n",
       "  </tbody>\n",
       "</table>\n",
       "</div>"
      ],
      "text/plain": [
       "                                                                        vtec\n",
       "time-index                                                                  \n",
       "2013-12-01 00:00:00+00:00  [[nan, nan, nan, nan, nan, nan, nan, nan, nan,...\n",
       "2013-12-01 00:10:00+00:00  [[nan, nan, nan, nan, nan, nan, nan, nan, nan,...\n",
       "2013-12-01 00:20:00+00:00  [[nan, nan, nan, nan, nan, nan, nan, nan, nan,...\n",
       "2013-12-01 00:30:00+00:00  [[nan, nan, nan, nan, nan, nan, nan, nan, nan,...\n",
       "2013-12-01 00:40:00+00:00  [[nan, nan, nan, nan, nan, nan, nan, nan, nan,..."
      ]
     },
     "execution_count": 8,
     "metadata": {},
     "output_type": "execute_result"
    }
   ],
   "source": [
    "data_series_tec.head()"
   ]
  },
  {
   "cell_type": "code",
   "execution_count": 9,
   "metadata": {},
   "outputs": [
    {
     "data": {
      "text/html": [
       "<div>\n",
       "<style scoped>\n",
       "    .dataframe tbody tr th:only-of-type {\n",
       "        vertical-align: middle;\n",
       "    }\n",
       "\n",
       "    .dataframe tbody tr th {\n",
       "        vertical-align: top;\n",
       "    }\n",
       "\n",
       "    .dataframe thead th {\n",
       "        text-align: right;\n",
       "    }\n",
       "</style>\n",
       "<table border=\"1\" class=\"dataframe\">\n",
       "  <thead>\n",
       "    <tr style=\"text-align: right;\">\n",
       "      <th></th>\n",
       "      <th>vtec</th>\n",
       "    </tr>\n",
       "    <tr>\n",
       "      <th>time-index</th>\n",
       "      <th></th>\n",
       "    </tr>\n",
       "  </thead>\n",
       "  <tbody>\n",
       "    <tr>\n",
       "      <th>2014-02-28 23:10:00+00:00</th>\n",
       "      <td>[[nan, nan, nan, nan, nan, nan, nan, nan, nan,...</td>\n",
       "    </tr>\n",
       "    <tr>\n",
       "      <th>2014-02-28 23:20:00+00:00</th>\n",
       "      <td>[[nan, nan, nan, nan, nan, nan, nan, nan, nan,...</td>\n",
       "    </tr>\n",
       "    <tr>\n",
       "      <th>2014-02-28 23:30:00+00:00</th>\n",
       "      <td>[[nan, nan, nan, nan, nan, nan, nan, nan, nan,...</td>\n",
       "    </tr>\n",
       "    <tr>\n",
       "      <th>2014-02-28 23:40:00+00:00</th>\n",
       "      <td>[[nan, nan, nan, nan, nan, nan, nan, nan, nan,...</td>\n",
       "    </tr>\n",
       "    <tr>\n",
       "      <th>2014-02-28 23:50:00+00:00</th>\n",
       "      <td>[[nan, nan, nan, nan, nan, nan, nan, nan, nan,...</td>\n",
       "    </tr>\n",
       "  </tbody>\n",
       "</table>\n",
       "</div>"
      ],
      "text/plain": [
       "                                                                        vtec\n",
       "time-index                                                                  \n",
       "2014-02-28 23:10:00+00:00  [[nan, nan, nan, nan, nan, nan, nan, nan, nan,...\n",
       "2014-02-28 23:20:00+00:00  [[nan, nan, nan, nan, nan, nan, nan, nan, nan,...\n",
       "2014-02-28 23:30:00+00:00  [[nan, nan, nan, nan, nan, nan, nan, nan, nan,...\n",
       "2014-02-28 23:40:00+00:00  [[nan, nan, nan, nan, nan, nan, nan, nan, nan,...\n",
       "2014-02-28 23:50:00+00:00  [[nan, nan, nan, nan, nan, nan, nan, nan, nan,..."
      ]
     },
     "execution_count": 9,
     "metadata": {},
     "output_type": "execute_result"
    }
   ],
   "source": [
    "data_series_tec.tail()"
   ]
  },
  {
   "cell_type": "code",
   "execution_count": 10,
   "metadata": {},
   "outputs": [],
   "source": [
    "data_series_tec.to_pickle(\"./data/data_series_tec.pkl.xz\", compression='xz')"
   ]
  }
 ],
 "metadata": {
  "kernelspec": {
   "display_name": "Python (Data Science)",
   "language": "python",
   "name": "dscience"
  },
  "language_info": {
   "codemirror_mode": {
    "name": "ipython",
    "version": 3
   },
   "file_extension": ".py",
   "mimetype": "text/x-python",
   "name": "python",
   "nbconvert_exporter": "python",
   "pygments_lexer": "ipython3",
   "version": "3.6.6"
  }
 },
 "nbformat": 4,
 "nbformat_minor": 2
}
