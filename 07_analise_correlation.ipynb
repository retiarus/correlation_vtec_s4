{
 "cells": [
  {
   "cell_type": "code",
   "execution_count": 1,
   "metadata": {},
   "outputs": [],
   "source": [
    "import graphviz \n",
    "import os\n",
    "import sys\n",
    "import warnings\n",
    "\n",
    "import matplotlib.pyplot as plt\n",
    "import numpy as np\n",
    "import pandas as pd\n",
    "import seaborn as sns\n",
    "\n",
    "from sklearn.model_selection import train_test_split\n",
    "from sklearn.model_selection import cross_val_score\n",
    "from sklearn.model_selection import GridSearchCV\n",
    "from sklearn.ensemble import RandomForestRegressor\n",
    "from sklearn.svm import SVR\n",
    "from sklearn.metrics import mean_squared_error\n",
    "from sklearn.preprocessing import StandardScaler\n",
    "from sklearn.decomposition import PCA\n",
    "\n",
    "\n",
    "from sklearn import tree\n",
    "\n",
    "import utils\n",
    "\n",
    "from utils import local_data\n",
    "from utils import window\n",
    "from utils import Scale, give_error\n",
    "\n",
    "%matplotlib inline\n",
    "warnings.filterwarnings('ignore')\n",
    "\n",
    "latter_size = 14\n",
    "plt.rcParams['legend.fontsize'] = latter_size \n",
    "plt.rcParams['font.size'] = latter_size \n",
    "plt.rcParams['axes.labelsize'] = latter_size\n",
    "plt.rcParams['xtick.labelsize'] = latter_size\n",
    "plt.rcParams['ytick.labelsize'] = latter_size"
   ]
  },
  {
   "cell_type": "code",
   "execution_count": 2,
   "metadata": {},
   "outputs": [
    {
     "data": {
      "text/html": [
       "<div>\n",
       "<style scoped>\n",
       "    .dataframe tbody tr th:only-of-type {\n",
       "        vertical-align: middle;\n",
       "    }\n",
       "\n",
       "    .dataframe tbody tr th {\n",
       "        vertical-align: top;\n",
       "    }\n",
       "\n",
       "    .dataframe thead th {\n",
       "        text-align: right;\n",
       "    }\n",
       "</style>\n",
       "<table border=\"1\" class=\"dataframe\">\n",
       "  <thead>\n",
       "    <tr style=\"text-align: right;\">\n",
       "      <th></th>\n",
       "      <th>vtec</th>\n",
       "      <th>vtec_dt</th>\n",
       "      <th>vtec_dt2</th>\n",
       "      <th>gvtec1</th>\n",
       "      <th>gvtec1_dt</th>\n",
       "      <th>gvtec2</th>\n",
       "      <th>gvtec2_dt</th>\n",
       "      <th>s4</th>\n",
       "    </tr>\n",
       "  </thead>\n",
       "  <tbody>\n",
       "    <tr>\n",
       "      <th>2013-12-01 03:30:00</th>\n",
       "      <td>33.624428</td>\n",
       "      <td>-0.428246</td>\n",
       "      <td>-0.020502</td>\n",
       "      <td>-3.216613</td>\n",
       "      <td>0.002355</td>\n",
       "      <td>1.826065</td>\n",
       "      <td>1.991653</td>\n",
       "      <td>0.163334</td>\n",
       "    </tr>\n",
       "    <tr>\n",
       "      <th>2013-12-01 03:40:00</th>\n",
       "      <td>33.205025</td>\n",
       "      <td>-0.546589</td>\n",
       "      <td>-0.118343</td>\n",
       "      <td>-3.122300</td>\n",
       "      <td>0.130198</td>\n",
       "      <td>4.588494</td>\n",
       "      <td>2.530373</td>\n",
       "      <td>0.165397</td>\n",
       "    </tr>\n",
       "    <tr>\n",
       "      <th>2013-12-01 03:50:00</th>\n",
       "      <td>32.539631</td>\n",
       "      <td>-0.772594</td>\n",
       "      <td>-0.226005</td>\n",
       "      <td>-2.810556</td>\n",
       "      <td>0.280756</td>\n",
       "      <td>7.786990</td>\n",
       "      <td>2.862830</td>\n",
       "      <td>0.168683</td>\n",
       "    </tr>\n",
       "    <tr>\n",
       "      <th>2013-12-01 04:00:00</th>\n",
       "      <td>31.469337</td>\n",
       "      <td>-1.082859</td>\n",
       "      <td>-0.310265</td>\n",
       "      <td>-2.320938</td>\n",
       "      <td>0.399753</td>\n",
       "      <td>10.972091</td>\n",
       "      <td>2.894375</td>\n",
       "      <td>0.173552</td>\n",
       "    </tr>\n",
       "    <tr>\n",
       "      <th>2013-12-01 04:10:00</th>\n",
       "      <td>29.995466</td>\n",
       "      <td>-1.429647</td>\n",
       "      <td>-0.346788</td>\n",
       "      <td>-1.764129</td>\n",
       "      <td>0.443303</td>\n",
       "      <td>13.734955</td>\n",
       "      <td>2.621609</td>\n",
       "      <td>0.178917</td>\n",
       "    </tr>\n",
       "  </tbody>\n",
       "</table>\n",
       "</div>"
      ],
      "text/plain": [
       "                          vtec   vtec_dt  vtec_dt2    gvtec1  gvtec1_dt  \\\n",
       "2013-12-01 03:30:00  33.624428 -0.428246 -0.020502 -3.216613   0.002355   \n",
       "2013-12-01 03:40:00  33.205025 -0.546589 -0.118343 -3.122300   0.130198   \n",
       "2013-12-01 03:50:00  32.539631 -0.772594 -0.226005 -2.810556   0.280756   \n",
       "2013-12-01 04:00:00  31.469337 -1.082859 -0.310265 -2.320938   0.399753   \n",
       "2013-12-01 04:10:00  29.995466 -1.429647 -0.346788 -1.764129   0.443303   \n",
       "\n",
       "                        gvtec2  gvtec2_dt        s4  \n",
       "2013-12-01 03:30:00   1.826065   1.991653  0.163334  \n",
       "2013-12-01 03:40:00   4.588494   2.530373  0.165397  \n",
       "2013-12-01 03:50:00   7.786990   2.862830  0.168683  \n",
       "2013-12-01 04:00:00  10.972091   2.894375  0.173552  \n",
       "2013-12-01 04:10:00  13.734955   2.621609  0.178917  "
      ]
     },
     "execution_count": 2,
     "metadata": {},
     "output_type": "execute_result"
    }
   ],
   "source": [
    "df = pd.read_pickle('./data/sj2_analise.pkl')\n",
    "df.head()"
   ]
  },
  {
   "cell_type": "code",
   "execution_count": 21,
   "metadata": {},
   "outputs": [
    {
     "name": "stdout",
     "output_type": "stream",
     "text": [
      "Delay: -40.000000\n"
     ]
    },
    {
     "data": {
      "text/plain": [
       "(array([-10,  -9,  -8,  -7,  -6,  -5,  -4,  -3,  -2,  -1,   0,   1,   2,\n",
       "          3,   4,   5,   6,   7,   8,   9,  10]),\n",
       " array([0.85761675, 0.85697081, 0.8563799 , 0.85584098, 0.85534467,\n",
       "        0.85487197, 0.85439588, 0.85388516, 0.85330877, 0.85264124,\n",
       "        0.85186634, 0.85083194, 0.8497029 , 0.84850963, 0.84728708,\n",
       "        0.84606337, 0.8448542 , 0.84366243, 0.84248027, 0.84129661,\n",
       "        0.84010338]),\n",
       " <matplotlib.collections.LineCollection at 0x7f2684779be0>,\n",
       " <matplotlib.lines.Line2D at 0x7f2684783320>)"
      ]
     },
     "execution_count": 21,
     "metadata": {},
     "output_type": "execute_result"
    },
    {
     "data": {
      "image/png": "[encoded data removed]",
      "text/plain": [
       "<Figure size 432x288 with 1 Axes>"
      ]
     },
     "metadata": {
      "needs_background": "light"
     },
     "output_type": "display_data"
    }
   ],
   "source": [
    "corr = np.correlate(df['vtec'].values.ravel(),df['s4'].values.ravel(), \"full\");\n",
    "corr = np.abs(corr);\n",
    "size_corr = len(df['vtec'].values.ravel()) - 1\n",
    "\n",
    "# find the max value in terms of location\n",
    "point = 0\n",
    "for i in range(0, len(corr)):\n",
    "    if corr[point] < corr[i]:\n",
    "        point = i\n",
    "print('Delay: %f' %(point - size_corr))\n",
    "\n",
    "plt.xcorr(df['vtec'].values.ravel(),df['s4'].values.ravel())"
   ]
  },
  {
   "cell_type": "code",
   "execution_count": 22,
   "metadata": {},
   "outputs": [
    {
     "name": "stdout",
     "output_type": "stream",
     "text": [
      "Delay: 204.000000\n"
     ]
    },
    {
     "data": {
      "text/plain": [
       "(array([-10,  -9,  -8,  -7,  -6,  -5,  -4,  -3,  -2,  -1,   0,   1,   2,\n",
       "          3,   4,   5,   6,   7,   8,   9,  10]),\n",
       " array([-0.02879219, -0.02669329, -0.02466208, -0.02283887, -0.02144695,\n",
       "        -0.0207491 , -0.02098252, -0.02228648, -0.02464069, -0.02783604,\n",
       "        -0.03149301, -0.03497478, -0.03795686, -0.04010399, -0.04129957,\n",
       "        -0.04166127, -0.04148016, -0.04110569, -0.04082329, -0.04077942,\n",
       "        -0.040976  ]),\n",
       " <matplotlib.collections.LineCollection at 0x7f2684755668>,\n",
       " <matplotlib.lines.Line2D at 0x7f2684755d68>)"
      ]
     },
     "execution_count": 22,
     "metadata": {},
     "output_type": "execute_result"
    },
    {
     "data": {
      "image/png": "[encoded data removed]",
      "text/plain": [
       "<Figure size 432x288 with 1 Axes>"
      ]
     },
     "metadata": {
      "needs_background": "light"
     },
     "output_type": "display_data"
    }
   ],
   "source": [
    "corr = np.correlate(df['vtec_dt'].values.ravel(),df['s4'].values.ravel(), \"full\");\n",
    "corr = np.abs(corr);\n",
    "size_corr = len(df['vtec_dt'].values.ravel()) - 1\n",
    "\n",
    "# find the max value in terms of location\n",
    "point = 0\n",
    "for i in range(0, len(corr)):\n",
    "    if corr[point] < corr[i]:\n",
    "        point = i\n",
    "print('Delay: %f' %(point - size_corr))\n",
    "\n",
    "plt.xcorr(df['vtec_dt'].values.ravel(),df['s4'].values.ravel())"
   ]
  },
  {
   "cell_type": "code",
   "execution_count": 23,
   "metadata": {},
   "outputs": [
    {
     "name": "stdout",
     "output_type": "stream",
     "text": [
      "Delay: -95.000000\n"
     ]
    },
    {
     "data": {
      "text/plain": [
       "(array([-10,  -9,  -8,  -7,  -6,  -5,  -4,  -3,  -2,  -1,   0,   1,   2,\n",
       "          3,   4,   5,   6,   7,   8,   9,  10]),\n",
       " array([ 0.01022799,  0.01012982,  0.0097978 ,  0.00879501,  0.00672854,\n",
       "         0.00340789, -0.00104203, -0.00614943, -0.01115217, -0.01514996,\n",
       "        -0.01733946, -0.01721811, -0.01486217, -0.01089587, -0.00636117,\n",
       "        -0.00238641,  0.00019897,  0.00112282,  0.00068644, -0.00045013,\n",
       "        -0.00159641]),\n",
       " <matplotlib.collections.LineCollection at 0x7f26846acf28>,\n",
       " <matplotlib.lines.Line2D at 0x7f26846b6668>)"
      ]
     },
     "execution_count": 23,
     "metadata": {},
     "output_type": "execute_result"
    },
    {
     "data": {
      "image/png": "[encoded data removed]",
      "text/plain": [
       "<Figure size 432x288 with 1 Axes>"
      ]
     },
     "metadata": {
      "needs_background": "light"
     },
     "output_type": "display_data"
    }
   ],
   "source": [
    "corr = np.correlate(df['vtec_dt2'].values.ravel(),df['s4'].values.ravel(), \"full\");\n",
    "corr = np.abs(corr);\n",
    "size_corr = len(df['vtec_dt2'].values.ravel()) - 1\n",
    "\n",
    "# find the max value in terms of location\n",
    "point = 0\n",
    "for i in range(0, len(corr)):\n",
    "    if corr[point] < corr[i]:\n",
    "        point = i\n",
    "print('Delay: %f' %(point - size_corr))\n",
    "\n",
    "plt.xcorr(df['vtec_dt2'].values.ravel(),df['s4'].values.ravel())"
   ]
  },
  {
   "cell_type": "code",
   "execution_count": 24,
   "metadata": {},
   "outputs": [
    {
     "name": "stdout",
     "output_type": "stream",
     "text": [
      "Delay: 140.000000\n"
     ]
    },
    {
     "data": {
      "text/plain": [
       "(array([-10,  -9,  -8,  -7,  -6,  -5,  -4,  -3,  -2,  -1,   0,   1,   2,\n",
       "          3,   4,   5,   6,   7,   8,   9,  10]),\n",
       " array([-0.22914292, -0.23317951, -0.23741055, -0.24148855, -0.24488159,\n",
       "        -0.24697744, -0.24724744, -0.24541765, -0.24158142, -0.2362006 ,\n",
       "        -0.22998166, -0.22353121, -0.21752621, -0.21222043, -0.20754684,\n",
       "        -0.20322456, -0.19893119, -0.19446165, -0.18980868, -0.18514511,\n",
       "        -0.1807315 ]),\n",
       " <matplotlib.collections.LineCollection at 0x7f268468ae80>,\n",
       " <matplotlib.lines.Line2D at 0x7f26846955c0>)"
      ]
     },
     "execution_count": 24,
     "metadata": {},
     "output_type": "execute_result"
    },
    {
     "data": {
      "image/png": "[encoded data removed]",
      "text/plain": [
       "<Figure size 432x288 with 1 Axes>"
      ]
     },
     "metadata": {
      "needs_background": "light"
     },
     "output_type": "display_data"
    }
   ],
   "source": [
    "corr = np.correlate(df['gvtec1'].values.ravel(),df['s4'].values.ravel(), \"full\");\n",
    "corr = np.abs(corr);\n",
    "size_corr = len(df['gvtec1'].values.ravel()) - 1\n",
    "\n",
    "# find the max value in terms of location\n",
    "point = 0\n",
    "for i in range(0, len(corr)):\n",
    "    if corr[point] < corr[i]:\n",
    "        point = i\n",
    "print('Delay: %f' %(point - size_corr))\n",
    "\n",
    "plt.xcorr(df['gvtec1'].values.ravel(),df['s4'].values.ravel())"
   ]
  },
  {
   "cell_type": "code",
   "execution_count": 25,
   "metadata": {},
   "outputs": [
    {
     "name": "stdout",
     "output_type": "stream",
     "text": [
      "Delay: 146.000000\n"
     ]
    },
    {
     "data": {
      "text/plain": [
       "(array([-10,  -9,  -8,  -7,  -6,  -5,  -4,  -3,  -2,  -1,   0,   1,   2,\n",
       "          3,   4,   5,   6,   7,   8,   9,  10]),\n",
       " array([-0.02449208, -0.02586995, -0.02608815, -0.02410118, -0.01911993,\n",
       "        -0.01095191, -0.00021119,  0.01171968,  0.02300955,  0.03189635,\n",
       "         0.03722355,  0.03891521,  0.03760041,  0.03465201,  0.03154982,\n",
       "         0.02936873,  0.02847333,  0.02852285,  0.02875266,  0.02837641,\n",
       "         0.02692534]),\n",
       " <matplotlib.collections.LineCollection at 0x7f26845e9c18>,\n",
       " <matplotlib.lines.Line2D at 0x7f26845f4358>)"
      ]
     },
     "execution_count": 25,
     "metadata": {},
     "output_type": "execute_result"
    },
    {
     "data": {
      "image/png": "[encoded data removed]",
      "text/plain": [
       "<Figure size 432x288 with 1 Axes>"
      ]
     },
     "metadata": {
      "needs_background": "light"
     },
     "output_type": "display_data"
    }
   ],
   "source": [
    "corr = np.correlate(df['gvtec1_dt'].values.ravel(),df['s4'].values.ravel(), \"full\");\n",
    "corr = np.abs(corr);\n",
    "size_corr = len(df['gvtec1_dt'].values.ravel()) - 1\n",
    "\n",
    "# find the max value in terms of location\n",
    "point = 0\n",
    "for i in range(0, len(corr)):\n",
    "    if corr[point] < corr[i]:\n",
    "        point = i\n",
    "print('Delay: %f' %(point - size_corr))\n",
    "\n",
    "plt.xcorr(df['gvtec1_dt'].values.ravel(),df['s4'].values.ravel())"
   ]
  },
  {
   "cell_type": "code",
   "execution_count": 26,
   "metadata": {},
   "outputs": [
    {
     "name": "stdout",
     "output_type": "stream",
     "text": [
      "Delay: -55.000000\n"
     ]
    },
    {
     "data": {
      "text/plain": [
       "(array([-10,  -9,  -8,  -7,  -6,  -5,  -4,  -3,  -2,  -1,   0,   1,   2,\n",
       "          3,   4,   5,   6,   7,   8,   9,  10]),\n",
       " array([0.40758793, 0.40885844, 0.41001791, 0.4110922 , 0.41214775,\n",
       "        0.41324959, 0.41440935, 0.41554728, 0.41648819, 0.41699823,\n",
       "        0.41685344, 0.41601765, 0.41441512, 0.41222575, 0.40974917,\n",
       "        0.40732032, 0.40521664, 0.40359407, 0.40247443, 0.40178254,\n",
       "        0.4014115 ]),\n",
       " <matplotlib.collections.LineCollection at 0x7f26845c8240>,\n",
       " <matplotlib.lines.Line2D at 0x7f26845c8940>)"
      ]
     },
     "execution_count": 26,
     "metadata": {},
     "output_type": "execute_result"
    },
    {
     "data": {
      "image/png": "[encoded data removed]",
      "text/plain": [
       "<Figure size 432x288 with 1 Axes>"
      ]
     },
     "metadata": {
      "needs_background": "light"
     },
     "output_type": "display_data"
    }
   ],
   "source": [
    "corr = np.correlate(df['gvtec2'].values.ravel(),df['s4'].values.ravel(), \"full\");\n",
    "corr = np.abs(corr);\n",
    "size_corr = len(df['gvtec2'].values.ravel()) - 1\n",
    "\n",
    "# find the max value in terms of location\n",
    "point = 0\n",
    "for i in range(0, len(corr)):\n",
    "    if corr[point] < corr[i]:\n",
    "        point = i\n",
    "print('Delay: %f' %(point - size_corr))\n",
    "\n",
    "plt.xcorr(df['gvtec2'].values.ravel(),df['s4'].values.ravel())"
   ]
  },
  {
   "cell_type": "code",
   "execution_count": 27,
   "metadata": {},
   "outputs": [
    {
     "name": "stdout",
     "output_type": "stream",
     "text": [
      "Delay: -310.000000\n"
     ]
    },
    {
     "data": {
      "text/plain": [
       "(array([-10,  -9,  -8,  -7,  -6,  -5,  -4,  -3,  -2,  -1,   0,   1,   2,\n",
       "          3,   4,   5,   6,   7,   8,   9,  10]),\n",
       " array([ 0.01377949,  0.01333828,  0.01269569,  0.01220454,  0.01205272,\n",
       "         0.01212516,  0.01197412,  0.01093684,  0.00837993,  0.0039863 ,\n",
       "        -0.00203267, -0.00889286, -0.01546771, -0.02054916, -0.02325087,\n",
       "        -0.02327423, -0.02096469, -0.01713712, -0.01274985, -0.00857429,\n",
       "        -0.00498921]),\n",
       " <matplotlib.collections.LineCollection at 0x7f268459ebe0>,\n",
       " <matplotlib.lines.Line2D at 0x7f2684528320>)"
      ]
     },
     "execution_count": 27,
     "metadata": {},
     "output_type": "execute_result"
    },
    {
     "data": {
      "image/png": "[encoded data removed]",
      "text/plain": [
       "<Figure size 432x288 with 1 Axes>"
      ]
     },
     "metadata": {
      "needs_background": "light"
     },
     "output_type": "display_data"
    }
   ],
   "source": [
    "corr = np.correlate(df['gvtec2_dt'].values.ravel(),df['s4'].values.ravel(), \"full\");\n",
    "corr = np.abs(corr);\n",
    "size_corr = len(df['gvtec2_dt'].values.ravel()) - 1\n",
    "\n",
    "# find the max value in terms of location\n",
    "point = 0\n",
    "for i in range(0, len(corr)):\n",
    "    if corr[point] < corr[i]:\n",
    "        point = i\n",
    "print('Delay: %f' %(point - size_corr))\n",
    "\n",
    "plt.xcorr(df['gvtec2_dt'].values.ravel(),df['s4'].values.ravel())"
   ]
  },
  {
   "cell_type": "code",
   "execution_count": null,
   "metadata": {},
   "outputs": [],
   "source": []
  }
 ],
 "metadata": {
  "kernelspec": {
   "display_name": "Python (Data Science)",
   "language": "python",
   "name": "dscience"
  },
  "language_info": {
   "codemirror_mode": {
    "name": "ipython",
    "version": 3
   },
   "file_extension": ".py",
   "mimetype": "text/x-python",
   "name": "python",
   "nbconvert_exporter": "python",
   "pygments_lexer": "ipython3",
   "version": "3.6.6"
  }
 },
 "nbformat": 4,
 "nbformat_minor": 2
}
