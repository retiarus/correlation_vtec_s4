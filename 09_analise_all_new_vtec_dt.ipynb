{
 "cells": [
  {
   "cell_type": "code",
   "execution_count": null,
   "metadata": {},
   "outputs": [],
   "source": [
    "import os\n",
    "import sys\n",
    "import warnings\n",
    "\n",
    "import pdb\n",
    "\n",
    "import matplotlib.pyplot as plt\n",
    "import numpy as np\n",
    "import pandas as pd\n",
    "import seaborn as sns\n",
    "\n",
    "from sklearn.model_selection import train_test_split\n",
    "from sklearn.model_selection import cross_val_score\n",
    "from sklearn.model_selection import GridSearchCV\n",
    "from sklearn.ensemble import RandomForestRegressor\n",
    "from sklearn.svm import SVR\n",
    "from sklearn.metrics import mean_squared_error\n",
    "from sklearn.preprocessing import StandardScaler\n",
    "from sklearn.decomposition import PCA\n",
    "\n",
    "from sklearn import tree\n",
    "\n",
    "from utils import MySet\n",
    "\n",
    "from utils import local_data\n",
    "from utils import window\n",
    "from utils import Scale, give_error\n",
    "from utils import generate_and_avaliate_model\n",
    "\n",
    "from utils import location_station, find_set_sunrise, find_set_sunset\n",
    "\n",
    "#%matplotlib inline\n",
    "warnings.filterwarnings('ignore')\n",
    "\n",
    "latter_size = 14\n",
    "plt.rcParams['legend.fontsize'] = latter_size \n",
    "plt.rcParams['font.size'] = latter_size \n",
    "plt.rcParams['axes.labelsize'] = latter_size\n",
    "plt.rcParams['xtick.labelsize'] = latter_size\n",
    "plt.rcParams['ytick.labelsize'] = latter_size"
   ]
  },
  {
   "cell_type": "code",
   "execution_count": null,
   "metadata": {},
   "outputs": [],
   "source": [
    "df = pd.read_pickle('./data/sj2_analise_update.pkl')"
   ]
  },
  {
   "cell_type": "code",
   "execution_count": null,
   "metadata": {},
   "outputs": [],
   "source": [
    "df.columns"
   ]
  },
  {
   "cell_type": "code",
   "execution_count": null,
   "metadata": {},
   "outputs": [],
   "source": [
    "original = ['vtec', 'vtec_dt_lag_3', 'vtec_dt2', 'gvtec1', 'gvtec1_dt', 'gvtec2', 'gvtec2_dt']\n",
    "tempo  = ['state_day', 'state_night', 'state_dawn']\n",
    "mdv1 = ['vm1', 'vd1']\n",
    "mdv2 = ['vm2', 'vd2']\n",
    "lag = ['gvtec1_dt_lag_9', 'gvtec2_dt_lag_20']\n",
    "\n",
    "original = MySet('original', ['vtec', 'vtec_dt_lag_3', 'vtec_dt2', 'gvtec1', 'gvtec1_dt', 'gvtec2', 'gvtec2_dt'])\n",
    "tempo  = MySet('tempo', ['state_night', 'state_dawn'])\n",
    "mdv1 = MySet('mdv1', ['vm1', 'vd1'])\n",
    "mdv2 = MySet('mdv2', ['vm2', 'vd2'])\n",
    "lag = MySet('lag', ['gvtec1_dt_lag_9', 'gvtec2_dt_lag_20'])\n",
    "\n",
    "vtec = MySet('vtec', ['vtec'])\n",
    "vtec_dt_lag_3 = MySet('vtec_dt_lag_3', ['vtec_dt_lag_3'])\n",
    "vtec_dt2 = MySet('vtec_dt2', ['vtec_dt2'])\n",
    "gvtec1 = MySet('gvtec1', ['gvtec1'])\n",
    "gvtec1_dt = MySet('gvtec1_dt', ['gvtec1_dt'])\n",
    "gvtec2 = MySet('gvtec2', ['gvtec2'])\n",
    "gvtec2_dt = MySet('gvtec2_dt', ['gvtec2_dt'])\n",
    "state_night = MySet('state_night', ['state_night'])\n",
    "state_dawn = MySet('state_dawn', ['state_dawn'])\n",
    "vm1 = MySet('vm1', ['vm1'])\n",
    "vd1 = MySet('vd1', ['vd1'])\n",
    "vm2 = MySet('vm2', ['vm2'])\n",
    "vd2 = MySet('vd2', ['vd2'])\n",
    "gvtec1_dt_lag_9 = MySet('gvtec1_dt_lag_9', ['gvtec1_dt_lag_9'])\n",
    "gvtec2_dt_lag_20 = MySet('gvtec2_dt_lag_20', ['gvtec2_dt_lag_20'])"
   ]
  },
  {
   "cell_type": "code",
   "execution_count": null,
   "metadata": {},
   "outputs": [],
   "source": [
    "set_tests = [original,\n",
    "             original-vtec,\n",
    "             original-vtec_dt_lag_3,\n",
    "             original-gvtec1,\n",
    "             original-gvtec1_dt,\n",
    "             original-gvtec2,\n",
    "             original-gvtec2_dt,\n",
    "             original+tempo,\n",
    "             original+gvtec1_dt_lag_9,\n",
    "             original+gvtec2_dt_lag_20,\n",
    "             original+lag,\n",
    "             original+mdv1,\n",
    "             original+mdv2,\n",
    "             original+tempo+lag,\n",
    "             original+tempo+mdv2,\n",
    "             original+tempo+mdv2+lag,\n",
    "             original+tempo+lag+mdv1+mdv2,\n",
    "             vtec,\n",
    "             vtec+gvtec1_dt_lag_9,\n",
    "             vtec+gvtec2_dt_lag_20,\n",
    "             vtec+vtec_dt_lag_3+vtec_dt2,\n",
    "             vtec+gvtec1+gvtec2,\n",
    "             vtec+tempo,\n",
    "             vtec+tempo+mdv1,\n",
    "             vtec+tempo+lag,\n",
    "             vtec+tempo+lag+mdv1,\n",
    "             vtec+tempo+lag+mdv2,\n",
    "             vtec+tempo+lag+mdv1+mdv2]"
   ]
  },
  {
   "cell_type": "code",
   "execution_count": null,
   "metadata": {},
   "outputs": [],
   "source": [
    "param_grid = True"
   ]
  },
  {
   "cell_type": "code",
   "execution_count": null,
   "metadata": {},
   "outputs": [],
   "source": [
    "with open('./data/result/09_analise_all_new_vtec_dt.txt', 'w') as file:\n",
    "    errors = []\n",
    "    for idx, i in enumerate(set_tests):\n",
    "        print(idx,' -> ', i.name)\n",
    "        if param_grid is not None:\n",
    "            if idx != 0:\n",
    "                file.write('\\n')\n",
    "            file.write(str(idx)+' -> '+i.name+'\\n')\n",
    "        dict_error = generate_and_avaliate_model(df=df,\n",
    "                                                instances_set=list(i.set),\n",
    "                                                target='s4',\n",
    "                                                save=True,\n",
    "                                                grid_search=True,\n",
    "                                                file_to_save_model='./images/09_analise_all_new_vtec_dt/' + i.name + '.eps ',\n",
    "                                                file=file)\n",
    "        dict_error['name'] = i.name\n",
    "        errors.append(dict_error)\n",
    "        print()"
   ]
  },
  {
   "cell_type": "code",
   "execution_count": null,
   "metadata": {},
   "outputs": [],
   "source": [
    "df = pd.DataFrame(errors) \n",
    "df.index = df['name']\n",
    "del df['name']\n",
    "df = df[['tp', 'tn', 'fp', 'fn', 're', 'pod', 'far', 'acc', 'precission', 'recall', 'f1', 'kappa', 'me', 'tse', 'mse']]\n",
    "pd.set_option('precision', 4)"
   ]
  },
  {
   "cell_type": "code",
   "execution_count": null,
   "metadata": {},
   "outputs": [],
   "source": [
    "with open('./data/result/09_analise_all_new_vtec_dt.txt', 'a') as file:\n",
    "    file.write(df.to_string())"
   ]
  }
 ],
 "metadata": {
  "kernelspec": {
   "display_name": "Python (dscience)",
   "language": "python",
   "name": "dscience"
  },
  "language_info": {
   "codemirror_mode": {
    "name": "ipython",
    "version": 3
   },
   "file_extension": ".py",
   "mimetype": "text/x-python",
   "name": "python",
   "nbconvert_exporter": "python",
   "pygments_lexer": "ipython3",
   "version": "3.6.7"
  }
 },
 "nbformat": 4,
 "nbformat_minor": 2
}
