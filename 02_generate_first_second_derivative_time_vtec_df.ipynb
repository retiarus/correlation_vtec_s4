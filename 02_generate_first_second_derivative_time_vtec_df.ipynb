{
 "cells": [
  {
   "cell_type": "markdown",
   "metadata": {},
   "source": [
    "# Cálculo da segunda e primeira derivada temporal para os dados de TEC\n",
    "___\n",
    "O papel deste notebook é tomar a série temporal dos dados de TEC data_series_tec.pkl.xz e cálcular a primeira e a segunda derivada temporal destes dados. Então, salvar o resultado, com os nomes data_series_tec_first_derivative.pkl.xz e data_series_tec_second_derivative.pkl.xz."
   ]
  },
  {
   "cell_type": "code",
   "execution_count": 1,
   "metadata": {},
   "outputs": [],
   "source": [
    "import datetime\n",
    "import os\n",
    "import sys\n",
    "\n",
    "import numpy as np\n",
    "import pandas as pd\n",
    "import matplotlib.pyplot as plt\n",
    "import seaborn as sns\n",
    "\n",
    "from pathos.multiprocessing import ProcessPool\n",
    "\n",
    "import utils\n",
    "\n",
    "from utils import local_data"
   ]
  },
  {
   "cell_type": "code",
   "execution_count": 2,
   "metadata": {},
   "outputs": [],
   "source": [
    "data_series_tec = pd.read_pickle(os.path.join(local_data, \"data_series_tec.pkl.xz\"), compression='xz')"
   ]
  },
  {
   "cell_type": "code",
   "execution_count": 3,
   "metadata": {},
   "outputs": [],
   "source": [
    "data_vtec = utils.extract_vtec(data_series_tec)\n",
    "data_index = utils.extract_index(data_series_tec)"
   ]
  },
  {
   "cell_type": "code",
   "execution_count": 4,
   "metadata": {},
   "outputs": [],
   "source": [
    "data_index_first_derivative = data_index[1:]\n",
    "data_index_second_derivative = data_index[1:-1]"
   ]
  },
  {
   "cell_type": "code",
   "execution_count": 5,
   "metadata": {},
   "outputs": [],
   "source": [
    "vtec_second_order_derivative_time = utils.second_order_derivative_time(data_vtec)\n",
    "vtec_first_order_derivative_time = utils.first_order_derivative_time(data_vtec)"
   ]
  },
  {
   "cell_type": "code",
   "execution_count": 6,
   "metadata": {},
   "outputs": [],
   "source": [
    "# calculate first order derivative in time for the tec data\n",
    "# and then, save series\n",
    "data_series_tec_first_derivative = pd.DataFrame(\n",
    "{'time-index': data_index_first_derivative,\n",
    " 'vtec_first_derivative': vtec_first_order_derivative_time   \n",
    "})\n",
    "\n",
    "data_series_tec_first_derivative['time-index'] = pd.to_datetime(data_series_tec_first_derivative['time-index'])\n",
    "data_series_tec_first_derivative.index = data_series_tec_first_derivative['time-index']\n",
    "del data_series_tec_first_derivative['time-index']\n",
    "\n",
    "data_series_tec.to_pickle(os.path.join(local_data, \"data_series_tec_first_derivative.pkl.xz\"), compression='xz')"
   ]
  },
  {
   "cell_type": "code",
   "execution_count": 7,
   "metadata": {},
   "outputs": [],
   "source": [
    "# calculate second order derivative in time for the tec data\n",
    "# and then, save series\n",
    "data_series_tec_second_derivative = pd.DataFrame(\n",
    "{'time-index': data_index_second_derivative,\n",
    " 'vtec_first_derivative': vtec_second_order_derivative_time   \n",
    "})\n",
    "\n",
    "data_series_tec_second_derivative['time-index'] = pd.to_datetime(data_series_tec_second_derivative['time-index'])\n",
    "data_series_tec_second_derivative.index = data_series_tec_second_derivative['time-index']\n",
    "del data_series_tec_second_derivative['time-index']\n",
    "\n",
    "data_series_tec.to_pickle(os.path.join(local_data, \"data_series_tec_second_derivative.pkl.xz\"), compression='xz')"
   ]
  }
 ],
 "metadata": {
  "kernelspec": {
   "display_name": "Python (dscience)",
   "language": "python",
   "name": "dscience"
  },
  "language_info": {
   "codemirror_mode": {
    "name": "ipython",
    "version": 3
   },
   "file_extension": ".py",
   "mimetype": "text/x-python",
   "name": "python",
   "nbconvert_exporter": "python",
   "pygments_lexer": "ipython3",
   "version": "3.6.7"
  }
 },
 "nbformat": 4,
 "nbformat_minor": 2
}
