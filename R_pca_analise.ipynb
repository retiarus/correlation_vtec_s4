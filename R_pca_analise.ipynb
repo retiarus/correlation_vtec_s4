{
 "cells": [
  {
   "cell_type": "code",
   "execution_count": 1,
   "metadata": {},
   "outputs": [],
   "source": [
    "require_packages <- c(\"ggplot2\", \"psych\")\n",
    "new_packages <- require_packages[!(require_packages %in% installed.packages()[,\"Package\"])]\n",
    "if(length(new_packages)) install.packages(new_packages)\n",
    "\n",
    "library(psych)"
   ]
  },
  {
   "cell_type": "code",
   "execution_count": 2,
   "metadata": {},
   "outputs": [],
   "source": [
    "df <- read.csv2('./data/sj2_analise.csv', sep=',')"
   ]
  },
  {
   "cell_type": "code",
   "execution_count": 3,
   "metadata": {},
   "outputs": [
    {
     "data": {
      "text/html": [
       "<table>\n",
       "<thead><tr><th scope=col>vtec</th><th scope=col>vtec_dt</th><th scope=col>vtec_dt2</th><th scope=col>gvtec1</th><th scope=col>gvtec1_dt</th><th scope=col>gvtec2</th><th scope=col>gvtec2_dt</th></tr></thead>\n",
       "<tbody>\n",
       "\t<tr><td>4988 </td><td>1851 </td><td> 710 </td><td> 3876</td><td> 9216</td><td> 3737</td><td>12251</td></tr>\n",
       "\t<tr><td>4916 </td><td>2407 </td><td>3429 </td><td> 3398</td><td>11203</td><td> 8901</td><td>12458</td></tr>\n",
       "\t<tr><td>4805 </td><td>3449 </td><td>5054 </td><td> 2334</td><td>11879</td><td>11121</td><td>12524</td></tr>\n",
       "\t<tr><td>4627 </td><td>4577 </td><td>5666 </td><td>  470</td><td>12098</td><td> 4441</td><td>12533</td></tr>\n",
       "\t<tr><td>4293 </td><td>5413 </td><td>5839 </td><td> 8533</td><td>12110</td><td> 5774</td><td>12479</td></tr>\n",
       "\t<tr><td>4005 </td><td>5867 </td><td>5718 </td><td>10449</td><td>11938</td><td> 6434</td><td>12305</td></tr>\n",
       "</tbody>\n",
       "</table>\n"
      ],
      "text/latex": [
       "\\begin{tabular}{r|lllllll}\n",
       " vtec & vtec\\_dt & vtec\\_dt2 & gvtec1 & gvtec1\\_dt & gvtec2 & gvtec2\\_dt\\\\\n",
       "\\hline\n",
       "\t 4988  & 1851  &  710  &  3876 &  9216 &  3737 & 12251\\\\\n",
       "\t 4916  & 2407  & 3429  &  3398 & 11203 &  8901 & 12458\\\\\n",
       "\t 4805  & 3449  & 5054  &  2334 & 11879 & 11121 & 12524\\\\\n",
       "\t 4627  & 4577  & 5666  &   470 & 12098 &  4441 & 12533\\\\\n",
       "\t 4293  & 5413  & 5839  &  8533 & 12110 &  5774 & 12479\\\\\n",
       "\t 4005  & 5867  & 5718  & 10449 & 11938 &  6434 & 12305\\\\\n",
       "\\end{tabular}\n"
      ],
      "text/markdown": [
       "\n",
       "vtec | vtec_dt | vtec_dt2 | gvtec1 | gvtec1_dt | gvtec2 | gvtec2_dt | \n",
       "|---|---|---|---|---|---|\n",
       "| 4988  | 1851  |  710  |  3876 |  9216 |  3737 | 12251 | \n",
       "| 4916  | 2407  | 3429  |  3398 | 11203 |  8901 | 12458 | \n",
       "| 4805  | 3449  | 5054  |  2334 | 11879 | 11121 | 12524 | \n",
       "| 4627  | 4577  | 5666  |   470 | 12098 |  4441 | 12533 | \n",
       "| 4293  | 5413  | 5839  |  8533 | 12110 |  5774 | 12479 | \n",
       "| 4005  | 5867  | 5718  | 10449 | 11938 |  6434 | 12305 | \n",
       "\n",
       "\n"
      ],
      "text/plain": [
       "  vtec vtec_dt vtec_dt2 gvtec1 gvtec1_dt gvtec2 gvtec2_dt\n",
       "1 4988 1851     710      3876   9216      3737  12251    \n",
       "2 4916 2407    3429      3398  11203      8901  12458    \n",
       "3 4805 3449    5054      2334  11879     11121  12524    \n",
       "4 4627 4577    5666       470  12098      4441  12533    \n",
       "5 4293 5413    5839      8533  12110      5774  12479    \n",
       "6 4005 5867    5718     10449  11938      6434  12305    "
      ]
     },
     "metadata": {},
     "output_type": "display_data"
    }
   ],
   "source": [
    "variables <- c('vtec', 'vtec_dt', 'vtec_dt2', 'gvtec1', 'gvtec1_dt', 'gvtec2', 'gvtec2_dt')\n",
    "variables_plus_target <- c(variables, 's4')\n",
    "\n",
    "for (i in variables_plus_target){\n",
    "      df[i] <- sapply(df[i], as.numeric)\n",
    "}\n",
    "\n",
    "head(df[variables])"
   ]
  },
  {
   "cell_type": "code",
   "execution_count": 5,
   "metadata": {},
   "outputs": [
    {
     "data": {
      "text/plain": [
       "                   X             vtec.vtec      vtec_dt.vtec_dt \n",
       " 2013-12-01 03:30:00:    1   Min.   :    1.0   Min.   :    1.0  \n",
       " 2013-12-01 03:40:00:    1   1st Qu.: 3169.5   1st Qu.: 3169.5  \n",
       " 2013-12-01 03:50:00:    1   Median : 6338.0   Median : 6338.0  \n",
       " 2013-12-01 04:00:00:    1   Mean   : 6338.0   Mean   : 6338.0  \n",
       " 2013-12-01 04:10:00:    1   3rd Qu.: 9506.5   3rd Qu.: 9506.5  \n",
       " 2013-12-01 04:20:00:    1   Max.   :12675.0   Max.   :12675.0  \n",
       " (Other)            :12669                                      \n",
       " vtec_dt2.vtec_dt2   gvtec1.gvtec1   gvtec1_dt.gvtec1_dt   gvtec2.gvtec2  \n",
       " Min.   :    1.0   Min.   :    1.0   Min.   :    1.0     Min.   :    1.0  \n",
       " 1st Qu.: 3169.5   1st Qu.: 3169.5   1st Qu.: 3169.5     1st Qu.: 3169.5  \n",
       " Median : 6338.0   Median : 6338.0   Median : 6338.0     Median : 6338.0  \n",
       " Mean   : 6338.0   Mean   : 6338.0   Mean   : 6338.0     Mean   : 6338.0  \n",
       " 3rd Qu.: 9506.5   3rd Qu.: 9506.5   3rd Qu.: 9506.5     3rd Qu.: 9506.5  \n",
       " Max.   :12675.0   Max.   :12675.0   Max.   :12675.0     Max.   :12675.0  \n",
       "                                                                          \n",
       " gvtec2_dt.gvtec2_dt       s4.s4      \n",
       " Min.   :    1.0     Min.   :    1.0  \n",
       " 1st Qu.: 3169.5     1st Qu.: 3169.5  \n",
       " Median : 6338.0     Median : 6338.0  \n",
       " Mean   : 6338.0     Mean   : 6338.0  \n",
       " 3rd Qu.: 9506.5     3rd Qu.: 9506.5  \n",
       " Max.   :12675.0     Max.   :12675.0  \n",
       "                                      "
      ]
     },
     "metadata": {},
     "output_type": "display_data"
    }
   ],
   "source": [
    "summary(df)"
   ]
  },
  {
   "cell_type": "code",
   "execution_count": 12,
   "metadata": {},
   "outputs": [],
   "source": [
    "pc <- principal(df[variables], nfactors=7)"
   ]
  },
  {
   "cell_type": "code",
   "execution_count": 13,
   "metadata": {},
   "outputs": [
    {
     "data": {
      "text/plain": [
       "Principal Components Analysis\n",
       "Call: principal(r = df[variables], nfactors = 7)\n",
       "Standardized loadings (pattern matrix) based upon correlation matrix\n",
       "            RC6   RC3   RC2   RC5   RC4   RC1   RC7 h2       u2 com\n",
       "vtec       0.03 -0.06 -0.06 -0.06  0.99  0.03  0.02  1  2.2e-16 1.0\n",
       "vtec_dt    0.09 -0.02  0.00  0.00  0.03  0.98  0.20  1  1.1e-16 1.1\n",
       "vtec_dt2  -0.04  1.00  0.02  0.00 -0.06 -0.02 -0.01  1  3.3e-16 1.0\n",
       "gvtec1     0.10 -0.01  0.03 -0.01  0.02  0.20  0.97  1  0.0e+00 1.1\n",
       "gvtec1_dt -0.03  0.02  0.99  0.07 -0.06  0.00  0.03  1  1.1e-15 1.0\n",
       "gvtec2     0.99 -0.04 -0.03 -0.04  0.03  0.08  0.10  1 -6.7e-16 1.0\n",
       "gvtec2_dt -0.04  0.00  0.07  1.00 -0.06  0.00 -0.01  1  1.1e-15 1.0\n",
       "\n",
       "                       RC6  RC3  RC2  RC5  RC4  RC1  RC7\n",
       "SS loadings           1.00 1.00 1.00 1.00 1.00 1.00 1.00\n",
       "Proportion Var        0.14 0.14 0.14 0.14 0.14 0.14 0.14\n",
       "Cumulative Var        0.14 0.29 0.43 0.57 0.71 0.86 1.00\n",
       "Proportion Explained  0.14 0.14 0.14 0.14 0.14 0.14 0.14\n",
       "Cumulative Proportion 0.14 0.29 0.43 0.57 0.71 0.86 1.00\n",
       "\n",
       "Mean item complexity =  1\n",
       "Test of the hypothesis that 7 components are sufficient.\n",
       "\n",
       "The root mean square of the residuals (RMSR) is  0 \n",
       " with the empirical chi square  0  with prob <  NA \n",
       "\n",
       "Fit based upon off diagonal values = 1"
      ]
     },
     "metadata": {},
     "output_type": "display_data"
    }
   ],
   "source": [
    "pc"
   ]
  },
  {
   "cell_type": "code",
   "execution_count": null,
   "metadata": {},
   "outputs": [],
   "source": []
  }
 ],
 "metadata": {
  "kernelspec": {
   "display_name": "R",
   "language": "R",
   "name": "ir"
  },
  "language_info": {
   "codemirror_mode": "r",
   "file_extension": ".r",
   "mimetype": "text/x-r-source",
   "name": "R",
   "pygments_lexer": "r",
   "version": "3.4.1"
  }
 },
 "nbformat": 4,
 "nbformat_minor": 2
}
