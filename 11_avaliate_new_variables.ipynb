{
 "cells": [
  {
   "cell_type": "code",
   "execution_count": 1,
   "metadata": {},
   "outputs": [],
   "source": [
    "import os\n",
    "import sys\n",
    "import warnings\n",
    "import pprint\n",
    "\n",
    "import pdb\n",
    "import json\n",
    "\n",
    "import matplotlib.pyplot as plt\n",
    "import numpy as np\n",
    "import pandas as pd\n",
    "import seaborn as sns\n",
    "\n",
    "from sklearn.feature_selection import f_regression, mutual_info_regression\n",
    "from sklearn.feature_selection import f_classif, mutual_info_classif\n",
    "from sklearn.ensemble import ExtraTreesClassifier\n",
    "from evolutionary_search import EvolutionaryAlgorithmSearchCV\n",
    "\n",
    "from sklearn.model_selection import StratifiedKFold\n",
    "from sklearn.model_selection import train_test_split\n",
    "from sklearn.model_selection import cross_val_score\n",
    "from sklearn.model_selection import GridSearchCV\n",
    "from sklearn.ensemble import RandomForestRegressor\n",
    "from sklearn.svm import SVR\n",
    "from sklearn.metrics import recall_score, make_scorer\n",
    "from sklearn.preprocessing import StandardScaler\n",
    "from sklearn.decomposition import PCA\n",
    "from sklearn.pipeline import Pipeline\n",
    "\n",
    "from xgboost import XGBClassifier\n",
    "\n",
    "from sklearn import tree\n",
    "\n",
    "from utils import MySet\n",
    "\n",
    "from utils import local_data\n",
    "from utils import window\n",
    "from utils import Scale, give_error\n",
    "from utils import generate_and_avaliate_model\n",
    "\n",
    "from utils import location_station, find_set_sunrise, find_set_sunset\n",
    "\n",
    "#%matplotlib inline\n",
    "warnings.filterwarnings('ignore')\n",
    "\n",
    "latter_size = 14\n",
    "plt.rcParams['legend.fontsize'] = latter_size \n",
    "plt.rcParams['font.size'] = latter_size \n",
    "plt.rcParams['axes.labelsize'] = latter_size\n",
    "plt.rcParams['xtick.labelsize'] = latter_size\n",
    "plt.rcParams['ytick.labelsize'] = latter_size"
   ]
  },
  {
   "cell_type": "code",
   "execution_count": 2,
   "metadata": {},
   "outputs": [],
   "source": [
    "df = pd.read_pickle('./data/sj2_analise_update2_drop.pkl')"
   ]
  },
  {
   "cell_type": "code",
   "execution_count": 3,
   "metadata": {},
   "outputs": [
    {
     "data": {
      "text/plain": [
       "Index(['vtec', 'vtec_dt', 'vtec_dt2', 'gvtec1', 'gvtec1_dt', 'gvtec2',\n",
       "       'gvtec2_dt', 'gvtec3', 'gvtec3_dt', 's4', 'state_night', 'state_dawn',\n",
       "       'vm1', 'vd1', 'vm2', 'vd2', 'gvtec1_dt_lag_9', 'gvtec2_dt_lag_20',\n",
       "       'vtec_dt_lag_3', 'vtec_i/vtec_i-1', 'roti_3', 'roti_5', 'roti_7',\n",
       "       'roti_9', 'roti_11', 'roti_13', 'gvtec1/gvtec2', 'gvtec1_dt/gvtec2_dt',\n",
       "       'doy', 'ut', 'discretize_s4', 'discretize_s4_02', 'discretize_s4_03',\n",
       "       'discretize_s4_04', 'discretize_s4_05', 'discretize_s4_06',\n",
       "       'discretize_s4_07'],\n",
       "      dtype='object')"
      ]
     },
     "execution_count": 3,
     "metadata": {},
     "output_type": "execute_result"
    }
   ],
   "source": [
    "df.columns"
   ]
  },
  {
   "cell_type": "code",
   "execution_count": 4,
   "metadata": {},
   "outputs": [],
   "source": [
    "instance_set = ['vtec', 'vtec_dt', 'vtec_dt2', 'gvtec1', 'gvtec1_dt', 'gvtec2',\n",
    "       'gvtec2_dt', 'gvtec3', 'gvtec3_dt', 'state_night', 'state_dawn', 'vm1', 'vd1', 'vm2', 'vd2', 'gvtec1_dt_lag_9',\n",
    "       'gvtec2_dt_lag_20', 'vtec_dt_lag_3', 'vtec_i/vtec_i-1', 'roti_3',\n",
    "       'roti_5', 'roti_7', 'roti_9', 'roti_11', 'roti_13', 'gvtec1/gvtec2',\n",
    "       'gvtec1_dt/gvtec2_dt', 'doy', 'ut']\n",
    "X = df[instance_set]\n",
    "y = df['discretize_s4']\n",
    "y_02 = df['discretize_s4_02']"
   ]
  },
  {
   "cell_type": "code",
   "execution_count": 5,
   "metadata": {},
   "outputs": [
    {
     "data": {
      "text/plain": [
       "[('roti_7', 325.7315317090369),\n",
       " ('roti_9', 323.60447094306215),\n",
       " ('roti_11', 309.2890513883844),\n",
       " ('roti_5', 309.21338059410175),\n",
       " ('roti_13', 291.8123150966424),\n",
       " ('roti_3', 273.9426519331049),\n",
       " ('vtec', 227.36301319964252),\n",
       " ('state_dawn', 211.04208045223467),\n",
       " ('gvtec3', 116.80024647265309),\n",
       " ('gvtec1', 83.61454229934513),\n",
       " ('vm2', 53.15573302833452),\n",
       " ('vm1', 46.841509939300956),\n",
       " ('gvtec2_dt', 43.9584035004517),\n",
       " ('gvtec3_dt', 32.84418631024842),\n",
       " ('gvtec2_dt_lag_20', 32.78575595976093),\n",
       " ('gvtec1_dt', 23.71147165585604),\n",
       " ('vtec_dt2', 20.891143490217956),\n",
       " ('gvtec2', 16.40297659519498),\n",
       " ('doy', 15.596739424227643),\n",
       " ('vd2', 15.066579158692512),\n",
       " ('vd1', 12.273279053429878),\n",
       " ('gvtec1_dt_lag_9', 11.711179219412795),\n",
       " ('state_night', 7.203374628928005),\n",
       " ('vtec_dt', 5.906751356809582),\n",
       " ('vtec_dt_lag_3', 5.133443211012448),\n",
       " ('ut', 2.857059356830323),\n",
       " ('gvtec1/gvtec2', 0.3699949328225962),\n",
       " ('vtec_i/vtec_i-1', 0.31086050526018355),\n",
       " ('gvtec1_dt/gvtec2_dt', 0.15942603638325822)]"
      ]
     },
     "execution_count": 5,
     "metadata": {},
     "output_type": "execute_result"
    }
   ],
   "source": [
    "list_values = []\n",
    "for feature, feat_importance in zip(instance_set, f_classif(X, y)[0]):\n",
    "    list_values.append((feature, feat_importance))\n",
    "    \n",
    "def get_second(value):\n",
    "    return value[1]\n",
    "\n",
    "list_values.sort(key=get_second, reverse=True)\n",
    "list_values"
   ]
  },
  {
   "cell_type": "code",
   "execution_count": 6,
   "metadata": {},
   "outputs": [
    {
     "data": {
      "text/plain": [
       "[('ut', 0.12979874049186968),\n",
       " ('vm1', 0.09388257548241707),\n",
       " ('vtec', 0.09340969648486208),\n",
       " ('vm2', 0.08862631485431183),\n",
       " ('vd2', 0.08694139319567817),\n",
       " ('roti_13', 0.0829668911880832),\n",
       " ('vd1', 0.08157121504044396),\n",
       " ('state_dawn', 0.07966430018746995),\n",
       " ('roti_7', 0.07842818739059965),\n",
       " ('roti_11', 0.07799649817203425),\n",
       " ('roti_9', 0.07783080443672508),\n",
       " ('roti_5', 0.07374194022705316),\n",
       " ('vtec_dt2', 0.05765243451342439),\n",
       " ('roti_3', 0.05511304449435572),\n",
       " ('gvtec1', 0.04989688552147831),\n",
       " ('gvtec1_dt', 0.04510384261076572),\n",
       " ('gvtec3_dt', 0.04470271699894046),\n",
       " ('gvtec3', 0.04138274991805635),\n",
       " ('gvtec2_dt', 0.04094602137781811),\n",
       " ('gvtec2', 0.039294519900262115),\n",
       " ('vtec_dt', 0.03691028345242664),\n",
       " ('vtec_dt_lag_3', 0.03357827133457514),\n",
       " ('gvtec1_dt_lag_9', 0.03309170837160669),\n",
       " ('doy', 0.031132399110235687),\n",
       " ('gvtec1/gvtec2', 0.018121443187602004),\n",
       " ('gvtec2_dt_lag_20', 0.01712913136429961),\n",
       " ('vtec_i/vtec_i-1', 0.013393697475643895),\n",
       " ('gvtec1_dt/gvtec2_dt', 0.002480128229733536),\n",
       " ('state_night', 0.0)]"
      ]
     },
     "execution_count": 6,
     "metadata": {},
     "output_type": "execute_result"
    }
   ],
   "source": [
    "list_values = []\n",
    "for feature, feat_importance in zip(instance_set, mutual_info_classif(X, y)):\n",
    "    list_values.append((feature, feat_importance))\n",
    "    \n",
    "def get_second(value):\n",
    "    return value[1]\n",
    "\n",
    "list_values.sort(key=get_second, reverse=True)\n",
    "list_values"
   ]
  },
  {
   "cell_type": "code",
   "execution_count": 7,
   "metadata": {},
   "outputs": [
    {
     "data": {
      "text/plain": [
       "[('ut', 0.06954003688076411),\n",
       " ('vtec', 0.05638201134366991),\n",
       " ('state_dawn', 0.054925581115404715),\n",
       " ('gvtec2', 0.045187656509418306),\n",
       " ('gvtec2_dt_lag_20', 0.04155247247804275),\n",
       " ('doy', 0.04133808644484073),\n",
       " ('vm1', 0.03897586048142016),\n",
       " ('vd1', 0.03874551073160718),\n",
       " ('vm2', 0.0377645808210562),\n",
       " ('gvtec3', 0.03773006511203873),\n",
       " ('vd2', 0.0372121501244612),\n",
       " ('roti_13', 0.03583426791960907),\n",
       " ('roti_11', 0.03510263907333308),\n",
       " ('gvtec2_dt', 0.034565237205532104),\n",
       " ('gvtec1', 0.033654050880267766),\n",
       " ('roti_9', 0.03267593422934672),\n",
       " ('vtec_dt2', 0.02981369509143521),\n",
       " ('roti_7', 0.029618643895448306),\n",
       " ('gvtec3_dt', 0.029478177467156367),\n",
       " ('gvtec1_dt_lag_9', 0.029452740976723058),\n",
       " ('gvtec1_dt', 0.028954152483726063),\n",
       " ('roti_5', 0.028143826130771547),\n",
       " ('vtec_dt', 0.025299161066362548),\n",
       " ('roti_3', 0.025244970099644784),\n",
       " ('vtec_dt_lag_3', 0.024718671319152424),\n",
       " ('vtec_i/vtec_i-1', 0.022417180960545464),\n",
       " ('gvtec1/gvtec2', 0.022085856391162426),\n",
       " ('gvtec1_dt/gvtec2_dt', 0.019032908498657287),\n",
       " ('state_night', 0.014553874268401887)]"
      ]
     },
     "execution_count": 7,
     "metadata": {},
     "output_type": "execute_result"
    }
   ],
   "source": [
    "clf = ExtraTreesClassifier(n_estimators=1500)\n",
    "clf = clf.fit(X, y)\n",
    "list_values = []\n",
    "for feature, feat_importance in zip(instance_set, clf.feature_importances_):\n",
    "    list_values.append((feature, feat_importance))\n",
    "    \n",
    "def get_second(value):\n",
    "    return value[1]\n",
    "\n",
    "list_values.sort(key=get_second, reverse=True)\n",
    "list_values"
   ]
  },
  {
   "cell_type": "code",
   "execution_count": 8,
   "metadata": {},
   "outputs": [
    {
     "data": {
      "text/plain": [
       "[('roti_7', 977.6504209996854),\n",
       " ('roti_9', 976.0161728971974),\n",
       " ('roti_11', 935.5874450672201),\n",
       " ('roti_5', 926.279402911366),\n",
       " ('roti_13', 880.3120957474953),\n",
       " ('vtec', 876.9023583016897),\n",
       " ('state_dawn', 843.6958979700449),\n",
       " ('roti_3', 825.0253731079194),\n",
       " ('gvtec3', 406.14954546072596),\n",
       " ('gvtec1', 277.22028886272346),\n",
       " ('vm2', 199.44475844313595),\n",
       " ('vm1', 180.20749876266166),\n",
       " ('gvtec2_dt', 67.2810915180356),\n",
       " ('vtec_dt2', 45.52297564544421),\n",
       " ('gvtec1_dt', 31.180492461984638),\n",
       " ('vd1', 28.635350208482198),\n",
       " ('gvtec3_dt', 28.123204765055924),\n",
       " ('state_night', 25.483548153426707),\n",
       " ('gvtec2', 24.46640489027514),\n",
       " ('vtec_dt', 8.363988332198902),\n",
       " ('doy', 7.728248131174271),\n",
       " ('ut', 6.941002807259078),\n",
       " ('gvtec2_dt_lag_20', 1.5650025681322743),\n",
       " ('gvtec1_dt_lag_9', 1.1455521697029458),\n",
       " ('vtec_i/vtec_i-1', 1.0686292793496386),\n",
       " ('vd2', 0.5406384202579524),\n",
       " ('gvtec1/gvtec2', 0.3170342825058654),\n",
       " ('gvtec1_dt/gvtec2_dt', 0.047453311812210464),\n",
       " ('vtec_dt_lag_3', 0.0004739694169829366)]"
      ]
     },
     "execution_count": 8,
     "metadata": {},
     "output_type": "execute_result"
    }
   ],
   "source": [
    "list_values = []\n",
    "for feature, feat_importance in zip(instance_set, f_classif(X, y_02)[0]):\n",
    "    list_values.append((feature, feat_importance))\n",
    "    \n",
    "def get_second(value):\n",
    "    return value[1]\n",
    "\n",
    "list_values.sort(key=get_second, reverse=True)\n",
    "list_values"
   ]
  },
  {
   "cell_type": "code",
   "execution_count": 9,
   "metadata": {},
   "outputs": [
    {
     "data": {
      "text/plain": [
       "[('ut', 0.12260575941353768),\n",
       " ('vtec', 0.08130622893895656),\n",
       " ('state_dawn', 0.08047500930304707),\n",
       " ('roti_7', 0.07357764092363084),\n",
       " ('roti_13', 0.07015456206494419),\n",
       " ('roti_9', 0.06992326655616443),\n",
       " ('vd1', 0.06987765572123505),\n",
       " ('vm1', 0.06819104132540654),\n",
       " ('roti_5', 0.06784387966953354),\n",
       " ('vm2', 0.06723925893183758),\n",
       " ('roti_11', 0.06487189069563115),\n",
       " ('vd2', 0.061888827458254525),\n",
       " ('vtec_dt2', 0.052488220370088934),\n",
       " ('roti_3', 0.05154671645514308),\n",
       " ('gvtec1', 0.04322840908698833),\n",
       " ('gvtec1_dt', 0.03980419288739623),\n",
       " ('gvtec2_dt', 0.03893003933510486),\n",
       " ('gvtec3', 0.0384954938423443),\n",
       " ('gvtec3_dt', 0.03845259355046404),\n",
       " ('vtec_dt', 0.02998284431012177),\n",
       " ('gvtec2', 0.02994557307190915),\n",
       " ('vtec_dt_lag_3', 0.026044911536033943),\n",
       " ('gvtec1_dt_lag_9', 0.025395702719103408),\n",
       " ('doy', 0.02106166392203268),\n",
       " ('gvtec1/gvtec2', 0.01956974674840839),\n",
       " ('vtec_i/vtec_i-1', 0.009608798524247009),\n",
       " ('gvtec2_dt_lag_20', 0.007193129494839523),\n",
       " ('gvtec1_dt/gvtec2_dt', 0.0007049475126787996),\n",
       " ('state_night', 0.0)]"
      ]
     },
     "execution_count": 9,
     "metadata": {},
     "output_type": "execute_result"
    }
   ],
   "source": [
    "list_values = []\n",
    "for feature, feat_importance in zip(instance_set, mutual_info_classif(X, y_02)):\n",
    "    list_values.append((feature, feat_importance))\n",
    "    \n",
    "def get_second(value):\n",
    "    return value[1]\n",
    "\n",
    "list_values.sort(key=get_second, reverse=True)\n",
    "list_values"
   ]
  },
  {
   "cell_type": "code",
   "execution_count": 10,
   "metadata": {},
   "outputs": [
    {
     "data": {
      "text/plain": [
       "[('ut', 0.07691010722660797),\n",
       " ('state_dawn', 0.07033112104875351),\n",
       " ('vtec', 0.06176795913918204),\n",
       " ('gvtec2', 0.045976409185084395),\n",
       " ('doy', 0.04119562504145503),\n",
       " ('vm2', 0.0403340911694182),\n",
       " ('vm1', 0.04030963295869502),\n",
       " ('gvtec2_dt_lag_20', 0.04016289892113833),\n",
       " ('vd1', 0.037808714461720724),\n",
       " ('gvtec3', 0.03588675644306747),\n",
       " ('roti_13', 0.035276530468677854),\n",
       " ('vd2', 0.03522649015883022),\n",
       " ('roti_11', 0.03411560530176702),\n",
       " ('roti_9', 0.03318137967874845),\n",
       " ('gvtec1', 0.03156315892658043),\n",
       " ('gvtec2_dt', 0.030631935828002416),\n",
       " ('roti_7', 0.030614632685897106),\n",
       " ('roti_5', 0.0291413556565589),\n",
       " ('vtec_dt2', 0.02786915148517794),\n",
       " ('gvtec3_dt', 0.027795195207966382),\n",
       " ('gvtec1_dt', 0.02764942939664423),\n",
       " ('roti_3', 0.02552843891141347),\n",
       " ('gvtec1_dt_lag_9', 0.02478322506624003),\n",
       " ('vtec_dt', 0.022647133183193533),\n",
       " ('vtec_dt_lag_3', 0.022100591185604535),\n",
       " ('vtec_i/vtec_i-1', 0.019183486315710173),\n",
       " ('gvtec1/gvtec2', 0.019039418852771536),\n",
       " ('state_night', 0.016614295859212442),\n",
       " ('gvtec1_dt/gvtec2_dt', 0.016355230235880047)]"
      ]
     },
     "execution_count": 10,
     "metadata": {},
     "output_type": "execute_result"
    }
   ],
   "source": [
    "clf = ExtraTreesClassifier(n_estimators=1500)\n",
    "clf = clf.fit(X, y_02)\n",
    "list_values = []\n",
    "for feature, feat_importance in zip(instance_set, clf.feature_importances_):\n",
    "    list_values.append((feature, feat_importance))\n",
    "    \n",
    "def get_second(value):\n",
    "    return value[1]\n",
    "\n",
    "list_values.sort(key=get_second, reverse=True)\n",
    "list_values"
   ]
  }
 ],
 "metadata": {
  "kernelspec": {
   "display_name": "Python (dscience)",
   "language": "python",
   "name": "dscience"
  },
  "language_info": {
   "codemirror_mode": {
    "name": "ipython",
    "version": 3
   },
   "file_extension": ".py",
   "mimetype": "text/x-python",
   "name": "python",
   "nbconvert_exporter": "python",
   "pygments_lexer": "ipython3",
   "version": "3.6.7"
  }
 },
 "nbformat": 4,
 "nbformat_minor": 2
}
